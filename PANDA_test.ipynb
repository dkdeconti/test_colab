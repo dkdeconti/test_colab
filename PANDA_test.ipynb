{
  "nbformat": 4,
  "nbformat_minor": 0,
  "metadata": {
    "colab": {
      "provenance": []
    },
    "kernelspec": {
      "name": "python3",
      "display_name": "Python 3"
    },
    "language_info": {
      "name": "python"
    }
  },
  "cells": [
    {
      "cell_type": "code",
      "execution_count": 1,
      "metadata": {
        "colab": {
          "base_uri": "https://localhost:8080/"
        },
        "id": "PO4PD2_VzccD",
        "outputId": "9fe16f24-1edd-413c-e24f-66fa69555a05"
      },
      "outputs": [
        {
          "output_type": "stream",
          "name": "stdout",
          "text": [
            "Collecting https://github.com/netZoo/netZooPy/archive/refs/tags/0.10.9.zip\n",
            "  Using cached https://github.com/netZoo/netZooPy/archive/refs/tags/0.10.9.zip\n",
            "  Preparing metadata (setup.py) ... \u001b[?25l\u001b[?25hdone\n",
            "Requirement already satisfied: h5py in /usr/local/lib/python3.11/dist-packages (from netZooPy==0.10.9) (3.14.0)\n",
            "Requirement already satisfied: pandas in /usr/local/lib/python3.11/dist-packages (from netZooPy==0.10.9) (2.2.2)\n",
            "Requirement already satisfied: numpy<2.0,>=1.19.2 in /usr/local/lib/python3.11/dist-packages (from netZooPy==0.10.9) (1.26.4)\n",
            "Requirement already satisfied: networkx>=2.6.3 in /usr/local/lib/python3.11/dist-packages (from netZooPy==0.10.9) (3.5)\n",
            "Requirement already satisfied: matplotlib>=3.3.4 in /usr/local/lib/python3.11/dist-packages (from netZooPy==0.10.9) (3.10.0)\n",
            "Requirement already satisfied: scipy>=1.5.3 in /usr/local/lib/python3.11/dist-packages (from netZooPy==0.10.9) (1.16.0)\n",
            "Requirement already satisfied: igraph in /usr/local/lib/python3.11/dist-packages (from netZooPy==0.10.9) (0.11.9)\n",
            "Requirement already satisfied: joblib>=1.1.0 in /usr/local/lib/python3.11/dist-packages (from netZooPy==0.10.9) (1.5.1)\n",
            "Requirement already satisfied: statsmodels>=0.12.2 in /usr/local/lib/python3.11/dist-packages (from netZooPy==0.10.9) (0.14.5)\n",
            "Requirement already satisfied: click in /usr/local/lib/python3.11/dist-packages (from netZooPy==0.10.9) (8.2.1)\n",
            "Requirement already satisfied: tables in /usr/local/lib/python3.11/dist-packages (from netZooPy==0.10.9) (3.10.2)\n",
            "Requirement already satisfied: contourpy>=1.0.1 in /usr/local/lib/python3.11/dist-packages (from matplotlib>=3.3.4->netZooPy==0.10.9) (1.3.2)\n",
            "Requirement already satisfied: cycler>=0.10 in /usr/local/lib/python3.11/dist-packages (from matplotlib>=3.3.4->netZooPy==0.10.9) (0.12.1)\n",
            "Requirement already satisfied: fonttools>=4.22.0 in /usr/local/lib/python3.11/dist-packages (from matplotlib>=3.3.4->netZooPy==0.10.9) (4.59.0)\n",
            "Requirement already satisfied: kiwisolver>=1.3.1 in /usr/local/lib/python3.11/dist-packages (from matplotlib>=3.3.4->netZooPy==0.10.9) (1.4.8)\n",
            "Requirement already satisfied: packaging>=20.0 in /usr/local/lib/python3.11/dist-packages (from matplotlib>=3.3.4->netZooPy==0.10.9) (25.0)\n",
            "Requirement already satisfied: pillow>=8 in /usr/local/lib/python3.11/dist-packages (from matplotlib>=3.3.4->netZooPy==0.10.9) (11.3.0)\n",
            "Requirement already satisfied: pyparsing>=2.3.1 in /usr/local/lib/python3.11/dist-packages (from matplotlib>=3.3.4->netZooPy==0.10.9) (3.2.3)\n",
            "Requirement already satisfied: python-dateutil>=2.7 in /usr/local/lib/python3.11/dist-packages (from matplotlib>=3.3.4->netZooPy==0.10.9) (2.9.0.post0)\n",
            "Requirement already satisfied: patsy>=0.5.6 in /usr/local/lib/python3.11/dist-packages (from statsmodels>=0.12.2->netZooPy==0.10.9) (1.0.1)\n",
            "Requirement already satisfied: pytz>=2020.1 in /usr/local/lib/python3.11/dist-packages (from pandas->netZooPy==0.10.9) (2025.2)\n",
            "Requirement already satisfied: tzdata>=2022.7 in /usr/local/lib/python3.11/dist-packages (from pandas->netZooPy==0.10.9) (2025.2)\n",
            "Requirement already satisfied: texttable>=1.6.2 in /usr/local/lib/python3.11/dist-packages (from igraph->netZooPy==0.10.9) (1.7.0)\n",
            "Requirement already satisfied: numexpr>=2.6.2 in /usr/local/lib/python3.11/dist-packages (from tables->netZooPy==0.10.9) (2.11.0)\n",
            "Requirement already satisfied: py-cpuinfo in /usr/local/lib/python3.11/dist-packages (from tables->netZooPy==0.10.9) (9.0.0)\n",
            "Requirement already satisfied: blosc2>=2.3.0 in /usr/local/lib/python3.11/dist-packages (from tables->netZooPy==0.10.9) (3.6.1)\n",
            "Requirement already satisfied: typing-extensions>=4.4.0 in /usr/local/lib/python3.11/dist-packages (from tables->netZooPy==0.10.9) (4.14.1)\n",
            "Requirement already satisfied: ndindex in /usr/local/lib/python3.11/dist-packages (from blosc2>=2.3.0->tables->netZooPy==0.10.9) (1.10.0)\n",
            "Requirement already satisfied: msgpack in /usr/local/lib/python3.11/dist-packages (from blosc2>=2.3.0->tables->netZooPy==0.10.9) (1.1.1)\n",
            "Requirement already satisfied: platformdirs in /usr/local/lib/python3.11/dist-packages (from blosc2>=2.3.0->tables->netZooPy==0.10.9) (4.3.8)\n",
            "Requirement already satisfied: requests in /usr/local/lib/python3.11/dist-packages (from blosc2>=2.3.0->tables->netZooPy==0.10.9) (2.32.3)\n",
            "Requirement already satisfied: six>=1.5 in /usr/local/lib/python3.11/dist-packages (from python-dateutil>=2.7->matplotlib>=3.3.4->netZooPy==0.10.9) (1.17.0)\n",
            "Requirement already satisfied: charset-normalizer<4,>=2 in /usr/local/lib/python3.11/dist-packages (from requests->blosc2>=2.3.0->tables->netZooPy==0.10.9) (3.4.2)\n",
            "Requirement already satisfied: idna<4,>=2.5 in /usr/local/lib/python3.11/dist-packages (from requests->blosc2>=2.3.0->tables->netZooPy==0.10.9) (3.10)\n",
            "Requirement already satisfied: urllib3<3,>=1.21.1 in /usr/local/lib/python3.11/dist-packages (from requests->blosc2>=2.3.0->tables->netZooPy==0.10.9) (2.5.0)\n",
            "Requirement already satisfied: certifi>=2017.4.17 in /usr/local/lib/python3.11/dist-packages (from requests->blosc2>=2.3.0->tables->netZooPy==0.10.9) (2025.7.14)\n"
          ]
        }
      ],
      "source": [
        "!pip install https://github.com/netZoo/netZooPy/archive/refs/tags/0.10.9.zip"
      ]
    },
    {
      "cell_type": "code",
      "source": [
        "import os\n",
        "from netZooPy.panda.panda import Panda # To load PANDA\n",
        "import pandas as pd                    # To read data frames\n",
        "import matplotlib.pyplot as plt        # To plot networks\n",
        "import sys"
      ],
      "metadata": {
        "id": "xe-85A0qzj3L"
      },
      "execution_count": 2,
      "outputs": []
    },
    {
      "cell_type": "code",
      "source": [
        "# Get Toy files\n",
        "!wget https://raw.githubusercontent.com/dkdeconti/test_colab/refs/heads/main/data/ToyExpressionData.txt\n",
        "!wget https://raw.githubusercontent.com/dkdeconti/test_colab/refs/heads/main/data/ToyMotifData.txt\n",
        "!wget https://raw.githubusercontent.com/dkdeconti/test_colab/refs/heads/main/data/ToyPPIData.txt"
      ],
      "metadata": {
        "colab": {
          "base_uri": "https://localhost:8080/"
        },
        "id": "kZ-7naZEzqol",
        "outputId": "89523b81-a4ad-4b0d-96c7-a3b924fa66c0"
      },
      "execution_count": 23,
      "outputs": [
        {
          "output_type": "stream",
          "name": "stdout",
          "text": [
            "--2025-08-04 16:31:32--  https://raw.githubusercontent.com/dkdeconti/test_colab/refs/heads/main/data/ToyExpressionData.txt\n",
            "Resolving raw.githubusercontent.com (raw.githubusercontent.com)... 185.199.108.133, 185.199.109.133, 185.199.110.133, ...\n",
            "Connecting to raw.githubusercontent.com (raw.githubusercontent.com)|185.199.108.133|:443... connected.\n",
            "HTTP request sent, awaiting response... 200 OK\n",
            "Length: 477084 (466K) [text/plain]\n",
            "Saving to: ‘ToyExpressionData.txt’\n",
            "\n",
            "\rToyExpressionData.t   0%[                    ]       0  --.-KB/s               \rToyExpressionData.t 100%[===================>] 465.90K  --.-KB/s    in 0.05s   \n",
            "\n",
            "2025-08-04 16:31:32 (9.85 MB/s) - ‘ToyExpressionData.txt’ saved [477084/477084]\n",
            "\n",
            "--2025-08-04 16:31:33--  https://raw.githubusercontent.com/dkdeconti/test_colab/refs/heads/main/data/ToyMotifData.txt\n",
            "Resolving raw.githubusercontent.com (raw.githubusercontent.com)... 185.199.111.133, 185.199.109.133, 185.199.110.133, ...\n",
            "Connecting to raw.githubusercontent.com (raw.githubusercontent.com)|185.199.111.133|:443... connected.\n",
            "HTTP request sent, awaiting response... 200 OK\n",
            "Length: 310741 (303K) [text/plain]\n",
            "Saving to: ‘ToyMotifData.txt’\n",
            "\n",
            "ToyMotifData.txt    100%[===================>] 303.46K  --.-KB/s    in 0.04s   \n",
            "\n",
            "2025-08-04 16:31:33 (6.74 MB/s) - ‘ToyMotifData.txt’ saved [310741/310741]\n",
            "\n",
            "--2025-08-04 16:31:33--  https://raw.githubusercontent.com/dkdeconti/test_colab/refs/heads/main/data/ToyPPIData.txt\n",
            "Resolving raw.githubusercontent.com (raw.githubusercontent.com)... 185.199.111.133, 185.199.108.133, 185.199.110.133, ...\n",
            "Connecting to raw.githubusercontent.com (raw.githubusercontent.com)|185.199.111.133|:443... connected.\n",
            "HTTP request sent, awaiting response... 200 OK\n",
            "Length: 2897 (2.8K) [text/plain]\n",
            "Saving to: ‘ToyPPIData.txt’\n",
            "\n",
            "ToyPPIData.txt      100%[===================>]   2.83K  --.-KB/s    in 0s      \n",
            "\n",
            "2025-08-04 16:31:33 (32.3 MB/s) - ‘ToyPPIData.txt’ saved [2897/2897]\n",
            "\n"
          ]
        }
      ]
    },
    {
      "cell_type": "code",
      "source": [
        "ppath = \"/content/\"\n",
        "expression_data=ppath+'ToyExpressionData.txt'\n",
        "motif_data     =ppath+'ToyMotifData.txt'\n",
        "ppi_data       =ppath+'ToyPPIData.txt'\n",
        "panda_output   ='../data/output_panda.txt'"
      ],
      "metadata": {
        "id": "A-Ihcm5Azumu"
      },
      "execution_count": 24,
      "outputs": []
    },
    {
      "cell_type": "code",
      "source": [
        "panda_obj = Panda(\n",
        "    expression_data,\n",
        "    motif_data,\n",
        "    ppi_data,\n",
        "    save_tmp=True,\n",
        "    save_memory = False,\n",
        "    remove_missing=False,\n",
        "    keep_expression_matrix = False\n",
        ")"
      ],
      "metadata": {
        "colab": {
          "base_uri": "https://localhost:8080/"
        },
        "id": "LV6r2vapz0t4",
        "outputId": "8ec1c3fd-712a-4a78-b1e5-3db828d51d35"
      },
      "execution_count": 25,
      "outputs": [
        {
          "output_type": "stream",
          "name": "stdout",
          "text": [
            "Loading motif data ...\n",
            "  Elapsed time: 0.01 sec.\n",
            "Loading expression data ...\n",
            "  Elapsed time: 0.01 sec.\n",
            "Loading PPI data ...\n",
            "Number of PPIs: 238\n",
            "  Elapsed time: 0.00 sec.\n",
            "Calculating coexpression network ...\n",
            "  Elapsed time: 0.02 sec.\n",
            "Creating motif network ...\n",
            "  Elapsed time: 0.02 sec.\n",
            "Creating PPI network ...\n",
            "  Elapsed time: 0.00 sec.\n",
            "union /content/ToyMotifData.txt /content/ToyExpressionData.txt /content/ToyPPIData.txt False False False\n",
            "Normalizing networks ...\n",
            "  Elapsed time: 0.08 sec.\n",
            "Saving expression matrix and normalized networks in ./tmp/...\n",
            "  Elapsed time: 0.00 sec.\n",
            "Running PANDA algorithm ...\n",
            "Computing panda on CPU\n",
            "step: 0, hamming: 0.7189661493310483\n",
            "step: 1, hamming: 0.3899291930533878\n",
            "step: 2, hamming: 0.4023669032441715\n",
            "step: 3, hamming: 0.40052102690695013\n",
            "step: 4, hamming: 0.389040661067493\n",
            "step: 5, hamming: 0.37050932839464235\n",
            "step: 6, hamming: 0.3468137555867854\n",
            "step: 7, hamming: 0.31972005463673125\n",
            "step: 8, hamming: 0.29080595496729783\n",
            "step: 9, hamming: 0.2614076940056482\n",
            "step: 10, hamming: 0.23256676372697796\n",
            "step: 11, hamming: 0.20504735705628832\n",
            "step: 12, hamming: 0.17936757451916932\n",
            "step: 13, hamming: 0.15582820811711123\n",
            "step: 14, hamming: 0.13456407379968913\n",
            "step: 15, hamming: 0.11558770141129429\n",
            "step: 16, hamming: 0.09882404296389545\n",
            "step: 17, hamming: 0.08414234975580209\n",
            "step: 18, hamming: 0.07137863451355297\n",
            "step: 19, hamming: 0.06035259805435885\n",
            "step: 20, hamming: 0.050879894979734684\n",
            "step: 21, hamming: 0.042780755616579576\n",
            "step: 22, hamming: 0.035885179254971866\n",
            "step: 23, hamming: 0.0300362305757735\n",
            "step: 24, hamming: 0.025091497074110177\n",
            "step: 25, hamming: 0.020923570395226337\n",
            "step: 26, hamming: 0.017419753581773622\n",
            "step: 27, hamming: 0.014481280713395812\n",
            "step: 28, hamming: 0.012022271900911971\n",
            "step: 29, hamming: 0.009968530553341593\n",
            "step: 30, hamming: 0.008256316755513483\n",
            "step: 31, hamming: 0.0068311523364618255\n",
            "step: 32, hamming: 0.005646666344177126\n",
            "step: 33, hamming: 0.0046635403830725414\n",
            "step: 34, hamming: 0.0038485477680198963\n",
            "step: 35, hamming: 0.0031736932104350743\n",
            "step: 36, hamming: 0.0026154528558446034\n",
            "step: 37, hamming: 0.00215410859221463\n",
            "step: 38, hamming: 0.0017731679463832567\n",
            "step: 39, hamming: 0.0014588635214802614\n",
            "step: 40, hamming: 0.0011997236869017306\n",
            "step: 41, hamming: 0.0009862051039577194\n",
            "Running panda took: 4.19 seconds!\n"
          ]
        }
      ]
    },
    {
      "cell_type": "code",
      "source": [
        "panda_obj.correlation_matrix"
      ],
      "metadata": {
        "id": "ixE9EDYW0QkH",
        "colab": {
          "base_uri": "https://localhost:8080/"
        },
        "outputId": "e34cc404-0840-47c6-f58f-04af47555ab7"
      },
      "execution_count": 28,
      "outputs": [
        {
          "output_type": "execute_result",
          "data": {
            "text/plain": [
              "array([[ 9.80414552e+00,  1.10505643e+00, -1.28364448e-01, ...,\n",
              "        -1.00897714e+00,  1.32411783e+00, -1.25966238e+00],\n",
              "       [ 1.10505643e+00,  9.56991716e+00,  6.88538414e-02, ...,\n",
              "         2.96159268e-01, -1.28819308e-03,  5.85287272e-01],\n",
              "       [-1.28364448e-01,  6.88538414e-02,  9.29261794e+00, ...,\n",
              "         8.26484517e-01,  1.19702957e+00, -7.80984313e-01],\n",
              "       ...,\n",
              "       [-1.00897714e+00,  2.96159268e-01,  8.26484517e-01, ...,\n",
              "         9.85601834e+00, -8.32505180e-01,  1.30489810e+00],\n",
              "       [ 1.32411783e+00, -1.28819308e-03,  1.19702957e+00, ...,\n",
              "        -8.32505180e-01,  9.54171901e+00,  4.84080666e-01],\n",
              "       [-1.25966238e+00,  5.85287272e-01, -7.80984313e-01, ...,\n",
              "         1.30489810e+00,  4.84080666e-01,  1.00464317e+01]])"
            ]
          },
          "metadata": {},
          "execution_count": 28
        }
      ]
    },
    {
      "cell_type": "code",
      "source": [],
      "metadata": {
        "id": "gewkMBQX7W-m"
      },
      "execution_count": null,
      "outputs": []
    }
  ]
}